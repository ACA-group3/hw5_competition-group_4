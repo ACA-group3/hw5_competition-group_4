{
 "cells": [
  {
   "cell_type": "markdown",
   "metadata": {},
   "source": [
    "## Build a classification model for Survival.csv dataset\n",
    "Find dataset describtion here\n",
    "https://physionet.org/content/challenge-2012/1.0.0/\n"
   ]
  },
  {
   "cell_type": "code",
   "execution_count": 1,
   "metadata": {},
   "outputs": [],
   "source": [
    "# Create train.py which will return the table of model results\n",
    "# Create a table to compere all classification models LR, LDA, QDA, DT, NB, SVM, Ansamble models \n",
    "# With this metrics, Accuracy, Sensitifity, Specificity, AUC, MCC(key for assesment)\n",
    "# Save the model in pickle format.\n",
    "# Create predict.py file which will load the model and predict on the test.csv file\n",
    "# Your code should be able to run from the command line having test argument\n",
    "# And should save the predictions.npy which are the probabilities of the class being true.\n",
    "# Ex. python predict.py --test test.csv \n",
    "\n",
    "# Columns <survival, length_of_stay and died_in_hospital\" will not appear in test data"
   ]
  },
  {
   "cell_type": "code",
   "execution_count": 1,
   "metadata": {},
   "outputs": [],
   "source": [
    "import pyforest"
   ]
  },
  {
   "cell_type": "code",
   "execution_count": 2,
   "metadata": {
    "scrolled": true
   },
   "outputs": [
    {
     "output_type": "display_data",
     "data": {
      "text/plain": "<IPython.core.display.Javascript object>",
      "application/javascript": "\n        if (window._pyforest_update_imports_cell) { window._pyforest_update_imports_cell('import pandas as pd'); }\n    "
     },
     "metadata": {}
    }
   ],
   "source": [
    "df =pd.read_csv(\"Survival_dataset.csv\")"
   ]
  },
  {
   "cell_type": "code",
   "execution_count": 4,
   "metadata": {},
   "outputs": [
    {
     "output_type": "execute_result",
     "data": {
      "text/plain": [
       "   recordid  SAPS-I  SOFA  Length_of_stay  Survival  In-hospital_death   Age  \\\n",
       "0    132539       6     1               5        -1                  0  54.0   \n",
       "1    132540      16     8               8        -1                  0  76.0   \n",
       "2    132541      21    11              19        -1                  0  44.0   \n",
       "3    132543       7     1               9       575                  0  68.0   \n",
       "4    132545      17     2               4       918                  0  88.0   \n",
       "5    132547      14    11               6      1637                  0  64.0   \n",
       "6    132548      14     4               9        -1                  0  68.0   \n",
       "7    132551      19     8               6         5                  1  78.0   \n",
       "8    132554      11     0              17        38                  0  64.0   \n",
       "9    132555      14     6               8        -1                  0  74.0   \n",
       "\n",
       "   Gender  Height  Weight  ...  SysABP_last  TroponinI_last  TroponinT_last  \\\n",
       "0     0.0     NaN     NaN  ...          NaN             NaN             NaN   \n",
       "1     1.0   175.3    76.0  ...        103.0             NaN             NaN   \n",
       "2     0.0     NaN    56.7  ...        126.0             NaN             NaN   \n",
       "3     1.0   180.3    84.6  ...          NaN             NaN             NaN   \n",
       "4     0.0     NaN     NaN  ...          NaN             NaN             NaN   \n",
       "5     1.0   180.3   114.0  ...         91.0             1.3             NaN   \n",
       "6     0.0   162.6    87.0  ...        148.0             0.8             NaN   \n",
       "7     0.0   162.6    48.4  ...        126.0             3.1             NaN   \n",
       "8     0.0     NaN    60.7  ...          NaN             NaN             NaN   \n",
       "9     1.0   175.3    66.1  ...        134.0             NaN             NaN   \n",
       "\n",
       "   WBC_last  Weight_last  pH_last  MechVentStartTime  MechVentDuration  \\\n",
       "0       9.4          NaN      NaN                NaN               NaN   \n",
       "1      13.3         81.6     7.37               71.0             360.0   \n",
       "2       6.2         56.7     7.47              617.0            2160.0   \n",
       "3       7.9         84.6      NaN                NaN               NaN   \n",
       "4       4.8          NaN      NaN                NaN               NaN   \n",
       "5      13.3          NaN     7.46              293.0            2495.0   \n",
       "6       6.2         87.0      NaN                NaN               NaN   \n",
       "7      23.5         48.4     7.37             1090.0            1710.0   \n",
       "8      15.2         60.7      NaN                NaN               NaN   \n",
       "9      11.8         69.7     7.38               57.0             180.0   \n",
       "\n",
       "   MechVentLast8Hour  UrineOutputSum  \n",
       "0                NaN             NaN  \n",
       "1                0.0             5.0  \n",
       "2                1.0            14.0  \n",
       "3                NaN             NaN  \n",
       "4                NaN             NaN  \n",
       "5                1.0            12.0  \n",
       "6                NaN             NaN  \n",
       "7                1.0            12.0  \n",
       "8                NaN             NaN  \n",
       "9                0.0             4.0  \n",
       "\n",
       "[10 rows x 120 columns]"
      ],
      "text/html": "<div>\n<style scoped>\n    .dataframe tbody tr th:only-of-type {\n        vertical-align: middle;\n    }\n\n    .dataframe tbody tr th {\n        vertical-align: top;\n    }\n\n    .dataframe thead th {\n        text-align: right;\n    }\n</style>\n<table border=\"1\" class=\"dataframe\">\n  <thead>\n    <tr style=\"text-align: right;\">\n      <th></th>\n      <th>recordid</th>\n      <th>SAPS-I</th>\n      <th>SOFA</th>\n      <th>Length_of_stay</th>\n      <th>Survival</th>\n      <th>In-hospital_death</th>\n      <th>Age</th>\n      <th>Gender</th>\n      <th>Height</th>\n      <th>Weight</th>\n      <th>...</th>\n      <th>SysABP_last</th>\n      <th>TroponinI_last</th>\n      <th>TroponinT_last</th>\n      <th>WBC_last</th>\n      <th>Weight_last</th>\n      <th>pH_last</th>\n      <th>MechVentStartTime</th>\n      <th>MechVentDuration</th>\n      <th>MechVentLast8Hour</th>\n      <th>UrineOutputSum</th>\n    </tr>\n  </thead>\n  <tbody>\n    <tr>\n      <th>0</th>\n      <td>132539</td>\n      <td>6</td>\n      <td>1</td>\n      <td>5</td>\n      <td>-1</td>\n      <td>0</td>\n      <td>54.0</td>\n      <td>0.0</td>\n      <td>NaN</td>\n      <td>NaN</td>\n      <td>...</td>\n      <td>NaN</td>\n      <td>NaN</td>\n      <td>NaN</td>\n      <td>9.4</td>\n      <td>NaN</td>\n      <td>NaN</td>\n      <td>NaN</td>\n      <td>NaN</td>\n      <td>NaN</td>\n      <td>NaN</td>\n    </tr>\n    <tr>\n      <th>1</th>\n      <td>132540</td>\n      <td>16</td>\n      <td>8</td>\n      <td>8</td>\n      <td>-1</td>\n      <td>0</td>\n      <td>76.0</td>\n      <td>1.0</td>\n      <td>175.3</td>\n      <td>76.0</td>\n      <td>...</td>\n      <td>103.0</td>\n      <td>NaN</td>\n      <td>NaN</td>\n      <td>13.3</td>\n      <td>81.6</td>\n      <td>7.37</td>\n      <td>71.0</td>\n      <td>360.0</td>\n      <td>0.0</td>\n      <td>5.0</td>\n    </tr>\n    <tr>\n      <th>2</th>\n      <td>132541</td>\n      <td>21</td>\n      <td>11</td>\n      <td>19</td>\n      <td>-1</td>\n      <td>0</td>\n      <td>44.0</td>\n      <td>0.0</td>\n      <td>NaN</td>\n      <td>56.7</td>\n      <td>...</td>\n      <td>126.0</td>\n      <td>NaN</td>\n      <td>NaN</td>\n      <td>6.2</td>\n      <td>56.7</td>\n      <td>7.47</td>\n      <td>617.0</td>\n      <td>2160.0</td>\n      <td>1.0</td>\n      <td>14.0</td>\n    </tr>\n    <tr>\n      <th>3</th>\n      <td>132543</td>\n      <td>7</td>\n      <td>1</td>\n      <td>9</td>\n      <td>575</td>\n      <td>0</td>\n      <td>68.0</td>\n      <td>1.0</td>\n      <td>180.3</td>\n      <td>84.6</td>\n      <td>...</td>\n      <td>NaN</td>\n      <td>NaN</td>\n      <td>NaN</td>\n      <td>7.9</td>\n      <td>84.6</td>\n      <td>NaN</td>\n      <td>NaN</td>\n      <td>NaN</td>\n      <td>NaN</td>\n      <td>NaN</td>\n    </tr>\n    <tr>\n      <th>4</th>\n      <td>132545</td>\n      <td>17</td>\n      <td>2</td>\n      <td>4</td>\n      <td>918</td>\n      <td>0</td>\n      <td>88.0</td>\n      <td>0.0</td>\n      <td>NaN</td>\n      <td>NaN</td>\n      <td>...</td>\n      <td>NaN</td>\n      <td>NaN</td>\n      <td>NaN</td>\n      <td>4.8</td>\n      <td>NaN</td>\n      <td>NaN</td>\n      <td>NaN</td>\n      <td>NaN</td>\n      <td>NaN</td>\n      <td>NaN</td>\n    </tr>\n    <tr>\n      <th>5</th>\n      <td>132547</td>\n      <td>14</td>\n      <td>11</td>\n      <td>6</td>\n      <td>1637</td>\n      <td>0</td>\n      <td>64.0</td>\n      <td>1.0</td>\n      <td>180.3</td>\n      <td>114.0</td>\n      <td>...</td>\n      <td>91.0</td>\n      <td>1.3</td>\n      <td>NaN</td>\n      <td>13.3</td>\n      <td>NaN</td>\n      <td>7.46</td>\n      <td>293.0</td>\n      <td>2495.0</td>\n      <td>1.0</td>\n      <td>12.0</td>\n    </tr>\n    <tr>\n      <th>6</th>\n      <td>132548</td>\n      <td>14</td>\n      <td>4</td>\n      <td>9</td>\n      <td>-1</td>\n      <td>0</td>\n      <td>68.0</td>\n      <td>0.0</td>\n      <td>162.6</td>\n      <td>87.0</td>\n      <td>...</td>\n      <td>148.0</td>\n      <td>0.8</td>\n      <td>NaN</td>\n      <td>6.2</td>\n      <td>87.0</td>\n      <td>NaN</td>\n      <td>NaN</td>\n      <td>NaN</td>\n      <td>NaN</td>\n      <td>NaN</td>\n    </tr>\n    <tr>\n      <th>7</th>\n      <td>132551</td>\n      <td>19</td>\n      <td>8</td>\n      <td>6</td>\n      <td>5</td>\n      <td>1</td>\n      <td>78.0</td>\n      <td>0.0</td>\n      <td>162.6</td>\n      <td>48.4</td>\n      <td>...</td>\n      <td>126.0</td>\n      <td>3.1</td>\n      <td>NaN</td>\n      <td>23.5</td>\n      <td>48.4</td>\n      <td>7.37</td>\n      <td>1090.0</td>\n      <td>1710.0</td>\n      <td>1.0</td>\n      <td>12.0</td>\n    </tr>\n    <tr>\n      <th>8</th>\n      <td>132554</td>\n      <td>11</td>\n      <td>0</td>\n      <td>17</td>\n      <td>38</td>\n      <td>0</td>\n      <td>64.0</td>\n      <td>0.0</td>\n      <td>NaN</td>\n      <td>60.7</td>\n      <td>...</td>\n      <td>NaN</td>\n      <td>NaN</td>\n      <td>NaN</td>\n      <td>15.2</td>\n      <td>60.7</td>\n      <td>NaN</td>\n      <td>NaN</td>\n      <td>NaN</td>\n      <td>NaN</td>\n      <td>NaN</td>\n    </tr>\n    <tr>\n      <th>9</th>\n      <td>132555</td>\n      <td>14</td>\n      <td>6</td>\n      <td>8</td>\n      <td>-1</td>\n      <td>0</td>\n      <td>74.0</td>\n      <td>1.0</td>\n      <td>175.3</td>\n      <td>66.1</td>\n      <td>...</td>\n      <td>134.0</td>\n      <td>NaN</td>\n      <td>NaN</td>\n      <td>11.8</td>\n      <td>69.7</td>\n      <td>7.38</td>\n      <td>57.0</td>\n      <td>180.0</td>\n      <td>0.0</td>\n      <td>4.0</td>\n    </tr>\n  </tbody>\n</table>\n<p>10 rows × 120 columns</p>\n</div>"
     },
     "metadata": {},
     "execution_count": 4
    }
   ],
   "source": [
    "df.head(10)"
   ]
  },
  {
   "cell_type": "code",
   "execution_count": null,
   "metadata": {},
   "outputs": [],
   "source": []
  }
 ],
 "metadata": {
  "kernelspec": {
   "display_name": "Python 3",
   "language": "python",
   "name": "python3"
  },
  "language_info": {
   "codemirror_mode": {
    "name": "ipython",
    "version": 3
   },
   "file_extension": ".py",
   "mimetype": "text/x-python",
   "name": "python",
   "nbconvert_exporter": "python",
   "pygments_lexer": "ipython3",
   "version": "3.7.6-final"
  }
 },
 "nbformat": 4,
 "nbformat_minor": 4
}